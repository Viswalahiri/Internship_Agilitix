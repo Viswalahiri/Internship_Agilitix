{
 "cells": [
  {
   "cell_type": "code",
   "execution_count": 9,
   "metadata": {},
   "outputs": [
    {
     "data": {
      "text/html": [
       "<div>\n",
       "<style scoped>\n",
       "    .dataframe tbody tr th:only-of-type {\n",
       "        vertical-align: middle;\n",
       "    }\n",
       "\n",
       "    .dataframe tbody tr th {\n",
       "        vertical-align: top;\n",
       "    }\n",
       "\n",
       "    .dataframe thead th {\n",
       "        text-align: right;\n",
       "    }\n",
       "</style>\n",
       "<table border=\"1\" class=\"dataframe\">\n",
       "  <thead>\n",
       "    <tr style=\"text-align: right;\">\n",
       "      <th></th>\n",
       "      <th>Month</th>\n",
       "      <th>Hyderabad</th>\n",
       "      <th>Delhi</th>\n",
       "      <th>Mumbai</th>\n",
       "    </tr>\n",
       "  </thead>\n",
       "  <tbody>\n",
       "    <tr>\n",
       "      <th>0</th>\n",
       "      <td>Jan-10</td>\n",
       "      <td>200.0</td>\n",
       "      <td>489.0</td>\n",
       "      <td>833.58</td>\n",
       "    </tr>\n",
       "    <tr>\n",
       "      <th>1</th>\n",
       "      <td>Feb-10</td>\n",
       "      <td>210.0</td>\n",
       "      <td>418.0</td>\n",
       "      <td>789.30</td>\n",
       "    </tr>\n",
       "    <tr>\n",
       "      <th>2</th>\n",
       "      <td>Mar-10</td>\n",
       "      <td>190.5</td>\n",
       "      <td>418.0</td>\n",
       "      <td>788.09</td>\n",
       "    </tr>\n",
       "    <tr>\n",
       "      <th>3</th>\n",
       "      <td>Apr-10</td>\n",
       "      <td>200.0</td>\n",
       "      <td>483.0</td>\n",
       "      <td>783.99</td>\n",
       "    </tr>\n",
       "    <tr>\n",
       "      <th>4</th>\n",
       "      <td>May-10</td>\n",
       "      <td>205.3</td>\n",
       "      <td>490.1</td>\n",
       "      <td>823.89</td>\n",
       "    </tr>\n",
       "  </tbody>\n",
       "</table>\n",
       "</div>"
      ],
      "text/plain": [
       "    Month  Hyderabad  Delhi  Mumbai\n",
       "0  Jan-10      200.0  489.0  833.58\n",
       "1  Feb-10      210.0  418.0  789.30\n",
       "2  Mar-10      190.5  418.0  788.09\n",
       "3  Apr-10      200.0  483.0  783.99\n",
       "4  May-10      205.3  490.1  823.89"
      ]
     },
     "execution_count": 9,
     "metadata": {},
     "output_type": "execute_result"
    }
   ],
   "source": [
    "import csv\n",
    "import pandas as pd\n",
    "data = pd.read_csv(\"agilitix_ocr_data.csv\")\n",
    "data.head()"
   ]
  },
  {
   "cell_type": "code",
   "execution_count": 10,
   "metadata": {},
   "outputs": [
    {
     "data": {
      "text/plain": [
       "0      833.58\n",
       "1      789.30\n",
       "2      788.09\n",
       "3      783.99\n",
       "4      823.89\n",
       "5     1442.89\n",
       "6      822.42\n",
       "7      826.62\n",
       "8      462.82\n",
       "9      852.78\n",
       "10     866.00\n",
       "11     823.00\n",
       "12     890.34\n",
       "13     932.49\n",
       "14     923.60\n",
       "15    1051.80\n",
       "16    1501.88\n",
       "17    1014.10\n",
       "18    1030.88\n",
       "19    1102.42\n",
       "20    1208.20\n",
       "21    1290.00\n",
       "22    1013.00\n",
       "23    1105.00\n",
       "24    1201.00\n",
       "25    1320.13\n",
       "26    1408.89\n",
       "27    1398.87\n",
       "28    1909.72\n",
       "29    1290.89\n",
       "30    1304.89\n",
       "31    1457.80\n",
       "32    1519.60\n",
       "Name: Mumbai, dtype: float64"
      ]
     },
     "execution_count": 10,
     "metadata": {},
     "output_type": "execute_result"
    }
   ],
   "source": [
    "data[\n",
    "    "
   ]
  },
  {
   "cell_type": "code",
   "execution_count": null,
   "metadata": {},
   "outputs": [],
   "source": []
  }
 ],
 "metadata": {
  "kernelspec": {
   "display_name": "Python 3",
   "language": "python",
   "name": "python3"
  },
  "language_info": {
   "codemirror_mode": {
    "name": "ipython",
    "version": 3
   },
   "file_extension": ".py",
   "mimetype": "text/x-python",
   "name": "python",
   "nbconvert_exporter": "python",
   "pygments_lexer": "ipython3",
   "version": "3.7.3"
  }
 },
 "nbformat": 4,
 "nbformat_minor": 4
}

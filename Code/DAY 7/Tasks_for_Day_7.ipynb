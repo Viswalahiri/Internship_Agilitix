{
  "nbformat": 4,
  "nbformat_minor": 0,
  "metadata": {
    "colab": {
      "name": "Tasks for Day 7",
      "provenance": []
    },
    "kernelspec": {
      "name": "python3",
      "display_name": "Python 3"
    }
  },
  "cells": [
    {
      "cell_type": "code",
      "metadata": {
        "id": "A1Xb9MDK-lAq",
        "colab_type": "code",
        "colab": {
          "base_uri": "https://localhost:8080/",
          "height": 195
        },
        "outputId": "c10a4ac0-15e8-4ef9-d8bc-f1589a786d4c"
      },
      "source": [
        "import csv\n",
        "import numpy as np\n",
        "import pandas as pd\n",
        "data = pd.read_csv(\"agilitix_ocr_data.csv\")\n",
        "data.head()"
      ],
      "execution_count": 1,
      "outputs": [
        {
          "output_type": "execute_result",
          "data": {
            "text/html": [
              "<div>\n",
              "<style scoped>\n",
              "    .dataframe tbody tr th:only-of-type {\n",
              "        vertical-align: middle;\n",
              "    }\n",
              "\n",
              "    .dataframe tbody tr th {\n",
              "        vertical-align: top;\n",
              "    }\n",
              "\n",
              "    .dataframe thead th {\n",
              "        text-align: right;\n",
              "    }\n",
              "</style>\n",
              "<table border=\"1\" class=\"dataframe\">\n",
              "  <thead>\n",
              "    <tr style=\"text-align: right;\">\n",
              "      <th></th>\n",
              "      <th>Month</th>\n",
              "      <th>Hyderabad</th>\n",
              "      <th>Delhi</th>\n",
              "      <th>Mumbai</th>\n",
              "    </tr>\n",
              "  </thead>\n",
              "  <tbody>\n",
              "    <tr>\n",
              "      <th>0</th>\n",
              "      <td>Jan-10</td>\n",
              "      <td>200.0</td>\n",
              "      <td>489.0</td>\n",
              "      <td>833.58</td>\n",
              "    </tr>\n",
              "    <tr>\n",
              "      <th>1</th>\n",
              "      <td>Feb-10</td>\n",
              "      <td>210.0</td>\n",
              "      <td>418.0</td>\n",
              "      <td>789.30</td>\n",
              "    </tr>\n",
              "    <tr>\n",
              "      <th>2</th>\n",
              "      <td>Mar-10</td>\n",
              "      <td>190.5</td>\n",
              "      <td>418.0</td>\n",
              "      <td>788.09</td>\n",
              "    </tr>\n",
              "    <tr>\n",
              "      <th>3</th>\n",
              "      <td>Apr-10</td>\n",
              "      <td>200.0</td>\n",
              "      <td>483.0</td>\n",
              "      <td>783.99</td>\n",
              "    </tr>\n",
              "    <tr>\n",
              "      <th>4</th>\n",
              "      <td>May-10</td>\n",
              "      <td>205.3</td>\n",
              "      <td>490.1</td>\n",
              "      <td>823.89</td>\n",
              "    </tr>\n",
              "  </tbody>\n",
              "</table>\n",
              "</div>"
            ],
            "text/plain": [
              "    Month  Hyderabad  Delhi  Mumbai\n",
              "0  Jan-10      200.0  489.0  833.58\n",
              "1  Feb-10      210.0  418.0  789.30\n",
              "2  Mar-10      190.5  418.0  788.09\n",
              "3  Apr-10      200.0  483.0  783.99\n",
              "4  May-10      205.3  490.1  823.89"
            ]
          },
          "metadata": {
            "tags": []
          },
          "execution_count": 1
        }
      ]
    },
    {
      "cell_type": "code",
      "metadata": {
        "id": "uPIilnhVA_jb",
        "colab_type": "code",
        "colab": {
          "base_uri": "https://localhost:8080/",
          "height": 168
        },
        "outputId": "07384862-5664-437d-c693-027f12983e24"
      },
      "source": [
        "# Average price in each of the cities by year?\n",
        "def Task_1():\n",
        "  ten = []\n",
        "  eleven = []\n",
        "  twelve = []\n",
        "  j = 0\n",
        "  for i in data[\"Month\"]:\n",
        "    p = i.split('-')[1]\n",
        "    if(int(p) == 10):\n",
        "      ten.append(j)\n",
        "    elif(int(p) == 11):\n",
        "      eleven.append(j)\n",
        "    else:\n",
        "      twelve.append(j)\n",
        "    j+=1\n",
        "\n",
        "  # dropping rows to create alternate dataframes\n",
        "  df_2010 = data.drop(eleven)\n",
        "  df_2010 = df_2010.drop(twelve)\n",
        "  df_2011 = data.drop(ten)\n",
        "  df_2011 = df_2011.drop(twelve)\n",
        "  df_2012 = data.drop(eleven)\n",
        "  df_2012 = df_2012.drop(ten)\n",
        "  # print(df_2010[\"Delhi\"].mean())\n",
        "  for i in ['Hyderabad','Delhi', 'Mumbai']:\n",
        "    print(str(i)+\"-2010 \" + str(df_2010[i].mean()))\n",
        "    print(str(i)+\"-2011 \" + str(df_2011[i].mean()))\n",
        "    print(str(i)+\"-2012 \" + str(df_2012[i].mean()))\n",
        "\n",
        "Task_1()\n",
        "\n",
        "# Output\n",
        "# Hyderabad-2010 309.955\n",
        "# Hyderabad-2011 551.2666666666667\n",
        "# Hyderabad-2012 643.5433333333333\n",
        "# Delhi-2010 492.38333333333327\n",
        "# Delhi-2011 525.725\n",
        "# Delhi-2012 726.7122222222222\n",
        "# Mumbai-2010 842.9483333333333\n",
        "# Mumbai-2011 1088.6425000000002\n",
        "# Mumbai-2012 1423.5322222222221"
      ],
      "execution_count": 8,
      "outputs": [
        {
          "output_type": "stream",
          "text": [
            "Hyderabad-2010 309.955\n",
            "Hyderabad-2011 551.2666666666667\n",
            "Hyderabad-2012 643.5433333333333\n",
            "Delhi-2010 492.38333333333327\n",
            "Delhi-2011 525.725\n",
            "Delhi-2012 726.7122222222222\n",
            "Mumbai-2010 842.9483333333333\n",
            "Mumbai-2011 1088.6425000000002\n",
            "Mumbai-2012 1423.5322222222221\n"
          ],
          "name": "stdout"
        }
      ]
    },
    {
      "cell_type": "code",
      "metadata": {
        "id": "L6DeM6sSQecH",
        "colab_type": "code",
        "colab": {
          "base_uri": "https://localhost:8080/",
          "height": 235
        },
        "outputId": "20d13c17-395e-4dc5-9ff5-33f8f69d73c1"
      },
      "source": [
        "# Finding outliers using the Standard deviations\n",
        "def Task_2_SD():\n",
        "  from scipy import stats\n",
        "  # Finding the outliers of each column (city-wise)\n",
        "  for i in data.columns[1:-1]:\n",
        "    df = data[i]\n",
        "    af = df[(np.abs(stats.zscore(df)) < 3)]\n",
        "    print(\"Outliers for \" + i +\" \" + str(len(df) - len(af)))\n",
        "  print(\"\\nReducing the Z-Score to 2\\n\")\n",
        "  for i in data.columns[1:-1]:\n",
        "    df = data[i]\n",
        "    af = df[(np.abs(stats.zscore(df)) < 2)]\n",
        "    ff = pd.merge(df, af, how='outer', indicator=True)\n",
        "    print(\"The \"+str(len(df) - len(af))+ \" Outliers of \"+ i+ \" are:\")\n",
        "    print(ff.loc[ff._merge == 'left_only', [i]].values)\n",
        "Task_2_SD()\n",
        "\n",
        "\n",
        "'''\n",
        "Outliers for Hyderabad 0\n",
        "Outliers for Delhi 0\n",
        "Outliers for Mumbai 0\n",
        "\n",
        "Reducing the Z-Score to 2\n",
        "\n",
        "The 1 Outliers of Hyderabad are:\n",
        "[[979.]]\n",
        "The 1 Outliers of Delhi are:\n",
        "[[234.88]]\n",
        "The 2 Outliers of Mumbai are:\n",
        "[[ 462.82]\n",
        " [1909.72]]\n",
        " '''\n"
      ],
      "execution_count": 95,
      "outputs": [
        {
          "output_type": "stream",
          "text": [
            "Outliers for Hyderabad 0\n",
            "Outliers for Delhi 0\n",
            "Outliers for Mumbai 0\n",
            "\n",
            "Reducing the Z-Score to 2\n",
            "\n",
            "The 1 Outliers of Hyderabad are:\n",
            "[[979.]]\n",
            "The 1 Outliers of Delhi are:\n",
            "[[234.88]]\n",
            "The 2 Outliers of Mumbai are:\n",
            "[[ 462.82]\n",
            " [1909.72]]\n"
          ],
          "name": "stdout"
        }
      ]
    },
    {
      "cell_type": "code",
      "metadata": {
        "id": "Jva7_oYVX2nI",
        "colab_type": "code",
        "colab": {
          "base_uri": "https://localhost:8080/",
          "height": 67
        },
        "outputId": "3513203b-da50-4c10-b23f-8ab233f13ad8"
      },
      "source": [
        "# Finding outliers using the Quantiles\n",
        "def Task_2_Quantile():\n",
        "  for i in data.columns[1:-1]:\n",
        "    # print(i)\n",
        "    upper_limit = data.quantile(.95)[i]\n",
        "    # print(upper_limit)\n",
        "    above_95 = []\n",
        "    for j in data[i]:\n",
        "      if(j > upper_limit):\n",
        "        above_95.append(j)\n",
        "    print(\"Values that exceed the 95th percentile in \" + str(i)+ \" are\",end = \" \")\n",
        "    for i in above_95:\n",
        "      print(i,end=' ')\n",
        "    print()\n",
        "Task_2_Quantile()\n",
        "\n",
        "\n",
        "'''\n",
        "Values that exceed the 95th percentile in Hyderabad are 979.0 830.89 \n",
        "Values that exceed the 95th percentile in Delhi are 822.49 849.9 \n",
        "Values that exceed the 95th percentile in Mumbai are 1909.72 1519.6 \n",
        "'''"
      ],
      "execution_count": 121,
      "outputs": [
        {
          "output_type": "stream",
          "text": [
            "Values that exceed the 95th percentile in Hyderabad are 979.0 830.89 \n",
            "Values that exceed the 95th percentile in Delhi are 822.49 849.9 \n",
            "Values that exceed the 95th percentile in Mumbai are 1909.72 1519.6 \n"
          ],
          "name": "stdout"
        }
      ]
    },
    {
      "cell_type": "code",
      "metadata": {
        "id": "ASbPwf0YJiZM",
        "colab_type": "code",
        "colab": {
          "base_uri": "https://localhost:8080/",
          "height": 850
        },
        "outputId": "fe718715-05ae-4583-f57d-912fe1d9597a"
      },
      "source": [
        "#Create a time series for average series per month\n",
        "def Task_3():\n",
        "  import matplotlib\n",
        "  %matplotlib inline\n",
        "  data['average'] = data.mean(numeric_only=True, axis=1)\n",
        "  plot = data.plot(x=\"Month\", y=\"average\")\n",
        "  plot.set_xlabel(xlabel = \"Months\")\n",
        "  plot.set_ylabel(ylabel = \"Average Price\")\n",
        "  # print(data)\n",
        "  # data['Readable_Month'] = pd.to_datetime(data['Month'],infer_datetime_format=True)\n",
        "Task_3()"
      ],
      "execution_count": 123,
      "outputs": [
        {
          "output_type": "stream",
          "text": [
            "     Month  Hyderabad   Delhi   Mumbai      average\n",
            "0   Jan-10     200.00  489.00   833.58   507.526667\n",
            "1   Feb-10     210.00  418.00   789.30   472.433333\n",
            "2   Mar-10     190.50  418.00   788.09   465.530000\n",
            "3   Apr-10     200.00  483.00   783.99   488.996667\n",
            "4   May-10     205.30  490.10   823.89   506.430000\n",
            "5   Jun-10     300.10  500.30  1442.89   747.763333\n",
            "6   Jul-10     390.98  510.50   822.42   574.633333\n",
            "7   Aug-10     401.10  489.90   826.62   572.540000\n",
            "8   Sep-10     370.50  411.50   462.82   414.940000\n",
            "9   Oct-10     390.00  489.00   852.78   577.260000\n",
            "10  Nov-10     410.10  419.90   866.00   565.333333\n",
            "11  Dec-10     450.88  789.40   823.00   687.760000\n",
            "12  Jan-11     459.91  510.39   890.34   620.213333\n",
            "13  Feb-11     510.00  511.00   932.49   651.163333\n",
            "14  Mar-11     490.00  549.00   923.60   654.200000\n",
            "15  Apr-11     979.00  434.00  1051.80   821.600000\n",
            "16  May-11     449.80  533.00  1501.88   828.226667\n",
            "17  Jun-11     419.50  433.00  1014.10   622.200000\n",
            "18  Jul-11     449.00  540.00  1030.88   673.293333\n",
            "19  Aug-11     539.00  532.09  1102.42   724.503333\n",
            "20  Sep-11     539.89  569.99  1208.20   772.693333\n",
            "21  Oct-11     590.90  589.30  1290.00   823.400000\n",
            "22  Nov-11     598.20  502.55  1013.00   704.583333\n",
            "23  Dec-11     590.00  604.38  1105.00   766.460000\n",
            "24  Jan-12     519.00  688.59  1201.00   802.863333\n",
            "25  Feb-12     500.00  739.59  1320.13   853.240000\n",
            "26  Mar-12     830.89  794.90  1408.89  1011.560000\n",
            "27  Apr-12     495.00  234.88  1398.87   709.583333\n",
            "28  May-12     599.00  822.49  1909.72  1110.403333\n",
            "29  Jun-12     639.00  820.49  1290.89   916.793333\n",
            "30  Jul-12     780.00  849.90  1304.89   978.263333\n",
            "31  Aug-12     710.00  783.80  1457.80   983.866667\n",
            "32  Sep-12     719.00  805.77  1519.60  1014.790000\n"
          ],
          "name": "stdout"
        },
        {
          "output_type": "display_data",
          "data": {
            "image/png": "[encoded data removed]",
            "text/plain": [
              "<Figure size 432x288 with 1 Axes>"
            ]
          },
          "metadata": {
            "tags": [],
            "needs_background": "light"
          }
        }
      ]
    },
    {
      "cell_type": "code",
      "metadata": {
        "id": "dsU0lubhmesA",
        "colab_type": "code",
        "colab": {
          "base_uri": "https://localhost:8080/",
          "height": 762
        },
        "outputId": "5c059227-6d3d-4df2-d7a9-75fb9380488d"
      },
      "source": [
        "#Time series that defines the maximum in the past 6 months per city\n",
        "def Task_4():\n",
        "  import matplotlib.pyplot as plt\n",
        "  # for i in data.columns[1:-1]:\n",
        "    # for j in data[\"Month\"][5:]:\n",
        "  from pandas import DataFrame\n",
        "  final = pd.DataFrame()\n",
        "  for j in data.columns[1:-1]:\n",
        "    t = []\n",
        "    for i in range(5,len(data)):\n",
        "      t.append(max(data.loc[i-5:i,j]))\n",
        "    df = DataFrame(t,columns=[j])\n",
        "    plot = df.plot()\n",
        "Task_4()\n"
      ],
      "execution_count": 162,
      "outputs": [
        {
          "output_type": "display_data",
          "data": {
            "image/png": "[encoded data removed]",
            "text/plain": [
              "<Figure size 432x288 with 1 Axes>"
            ]
          },
          "metadata": {
            "tags": [],
            "needs_background": "light"
          }
        },
        {
          "output_type": "display_data",
          "data": {
            "image/png": "[encoded data removed]",
            "text/plain": [
              "<Figure size 432x288 with 1 Axes>"
            ]
          },
          "metadata": {
            "tags": [],
            "needs_background": "light"
          }
        },
        {
          "output_type": "display_data",
          "data": {
            "image/png": "[encoded data removed]",
            "text/plain": [
              "<Figure size 432x288 with 1 Axes>"
            ]
          },
          "metadata": {
            "tags": [],
            "needs_background": "light"
          }
        }
      ]
    },
    {
      "cell_type": "code",
      "metadata": {
        "id": "AetSNTeaBZuF",
        "colab_type": "code",
        "colab": {
          "base_uri": "https://localhost:8080/",
          "height": 168
        },
        "outputId": "3d2bd8c2-f7dc-4c62-9d03-a6537e33b1a3"
      },
      "source": [
        "#Median of price in each city per year\n",
        "def Task_5():\n",
        "  ten = []\n",
        "  eleven = []\n",
        "  twelve = []\n",
        "  j = 0\n",
        "  for i in data[\"Month\"]:\n",
        "    p = i.split('-')[1]\n",
        "    if(int(p) == 10):\n",
        "      ten.append(j)\n",
        "    elif(int(p) == 11):\n",
        "      eleven.append(j)\n",
        "    else:\n",
        "      twelve.append(j)\n",
        "    j+=1\n",
        "\n",
        "  # dropping rows to create alternate dataframes\n",
        "  df_2010 = data.drop(eleven)\n",
        "  df_2010 = df_2010.drop(twelve)\n",
        "  df_2011 = data.drop(ten)\n",
        "  df_2011 = df_2011.drop(twelve)\n",
        "  df_2012 = data.drop(eleven)\n",
        "  df_2012 = df_2012.drop(ten)\n",
        "  # print(df_2010[\"Delhi\"].mean())\n",
        "  for i in ['Hyderabad','Delhi', 'Mumbai']:\n",
        "    print(str(i)+\"-2010 \" + str(df_2010[i].median()))\n",
        "    print(str(i)+\"-2011 \" + str(df_2011[i].median()))\n",
        "    print(str(i)+\"-2012 \" + str(df_2012[i].median()))\n",
        "\n",
        "Task_5()"
      ],
      "execution_count": 9,
      "outputs": [
        {
          "output_type": "stream",
          "text": [
            "Hyderabad-2010 335.3\n",
            "Hyderabad-2011 524.5\n",
            "Hyderabad-2012 639.0\n",
            "Delhi-2010 489.0\n",
            "Delhi-2011 532.5450000000001\n",
            "Delhi-2012 794.9\n",
            "Mumbai-2010 823.4449999999999\n",
            "Mumbai-2011 1041.3400000000001\n",
            "Mumbai-2012 1398.87\n"
          ],
          "name": "stdout"
        }
      ]
    }
  ]
}